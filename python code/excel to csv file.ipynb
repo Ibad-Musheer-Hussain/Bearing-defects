{
 "cells": [
  {
   "cell_type": "code",
   "execution_count": 2,
   "id": "c1f5adca",
   "metadata": {},
   "outputs": [
    {
     "name": "stdout",
     "output_type": "stream",
     "text": [
      "Requirement already satisfied: openpyxl in c:\\users\\user\\anaconda3\\envs\\pycaretfull\\lib\\site-packages (3.0.10)\n",
      "Requirement already satisfied: et-xmlfile in c:\\users\\user\\anaconda3\\envs\\pycaretfull\\lib\\site-packages (from openpyxl) (1.1.0)\n",
      "Note: you may need to restart the kernel to use updated packages.\n"
     ]
    },
    {
     "name": "stderr",
     "output_type": "stream",
     "text": [
      "WARNING: Ignoring invalid distribution -rotobuf (c:\\users\\user\\appdata\\roaming\\python\\python38\\site-packages)\n",
      "WARNING: Ignoring invalid distribution -rotobuf (c:\\users\\user\\appdata\\roaming\\python\\python38\\site-packages)\n",
      "WARNING: Ignoring invalid distribution -rotobuf (c:\\users\\user\\appdata\\roaming\\python\\python38\\site-packages)\n",
      "WARNING: Ignoring invalid distribution -rotobuf (c:\\users\\user\\appdata\\roaming\\python\\python38\\site-packages)\n",
      "WARNING: Ignoring invalid distribution -rotobuf (c:\\users\\user\\appdata\\roaming\\python\\python38\\site-packages)\n",
      "WARNING: Ignoring invalid distribution -rotobuf (c:\\users\\user\\appdata\\roaming\\python\\python38\\site-packages)\n"
     ]
    }
   ],
   "source": [
    "pip install openpyxl"
   ]
  },
  {
   "cell_type": "code",
   "execution_count": 3,
   "id": "38429030",
   "metadata": {},
   "outputs": [],
   "source": [
    "import scipy.io\n",
    "import matplotlib.pyplot as plt\n",
    "import scipy.io\n",
    "import numpy as np\n",
    "import pandas as pd\n",
    "import os"
   ]
  },
  {
   "cell_type": "code",
   "execution_count": 4,
   "id": "a2c24f67",
   "metadata": {},
   "outputs": [],
   "source": [
    "path =r'C:\\Users\\User\\Desktop\\HEALTHY BEARING A-3/'\n",
    "path1=r'C:\\Users\\User\\Desktop\\origihealthA-3/'\n",
    "for filename in os.listdir(path):\n",
    "    j=1\n",
    "    dataset=pd.read_excel(path+filename)\n",
    "    dataset.drop(dataset.columns[dataset.columns.str.contains('unnamed',case = False)],axis = 1, inplace = True)\n",
    "    \n",
    "    dataset.to_csv(path1+filename+str(j)+\".csv\",index=False,sep=',')"
   ]
  },
  {
   "cell_type": "code",
   "execution_count": 5,
   "id": "8bbfa155",
   "metadata": {},
   "outputs": [
    {
     "ename": "FileNotFoundError",
     "evalue": "[WinError 3] The system cannot find the path specified: 'C:\\\\Users\\\\User\\\\Desktop\\\\outerA_1/'",
     "output_type": "error",
     "traceback": [
      "\u001b[1;31m---------------------------------------------------------------------------\u001b[0m",
      "\u001b[1;31mFileNotFoundError\u001b[0m                         Traceback (most recent call last)",
      "Input \u001b[1;32mIn [5]\u001b[0m, in \u001b[0;36m<cell line: 2>\u001b[1;34m()\u001b[0m\n\u001b[0;32m      1\u001b[0m path \u001b[38;5;241m=\u001b[39m\u001b[38;5;124mr\u001b[39m\u001b[38;5;124m'\u001b[39m\u001b[38;5;124mC:\u001b[39m\u001b[38;5;124m\\\u001b[39m\u001b[38;5;124mUsers\u001b[39m\u001b[38;5;124m\\\u001b[39m\u001b[38;5;124mUser\u001b[39m\u001b[38;5;124m\\\u001b[39m\u001b[38;5;124mDesktop\u001b[39m\u001b[38;5;124m\\\u001b[39m\u001b[38;5;124mouterA_1/\u001b[39m\u001b[38;5;124m'\u001b[39m\n\u001b[1;32m----> 2\u001b[0m \u001b[38;5;28;01mfor\u001b[39;00m filename \u001b[38;5;129;01min\u001b[39;00m \u001b[43mos\u001b[49m\u001b[38;5;241;43m.\u001b[39;49m\u001b[43mlistdir\u001b[49m\u001b[43m(\u001b[49m\u001b[43mpath\u001b[49m\u001b[43m)\u001b[49m:\n\u001b[0;32m      3\u001b[0m     j\u001b[38;5;241m=\u001b[39m\u001b[38;5;241m1\u001b[39m\n\u001b[0;32m      4\u001b[0m     d\u001b[38;5;241m=\u001b[39mpd\u001b[38;5;241m.\u001b[39mread_excel(path\u001b[38;5;241m+\u001b[39mfilename)\n",
      "\u001b[1;31mFileNotFoundError\u001b[0m: [WinError 3] The system cannot find the path specified: 'C:\\\\Users\\\\User\\\\Desktop\\\\outerA_1/'"
     ]
    }
   ],
   "source": [
    "path =r'C:\\Users\\User\\Desktop\\outerA_1/'\n",
    "for filename in os.listdir(path):\n",
    "    j=1\n",
    "    d=pd.read_excel(path+filename)"
   ]
  },
  {
   "cell_type": "code",
   "execution_count": null,
   "id": "136c73e0",
   "metadata": {},
   "outputs": [],
   "source": [
    "d"
   ]
  },
  {
   "cell_type": "code",
   "execution_count": null,
   "id": "a2ddee6c",
   "metadata": {},
   "outputs": [],
   "source": [
    "dataset"
   ]
  },
  {
   "cell_type": "code",
   "execution_count": null,
   "id": "2d32c2aa",
   "metadata": {
    "scrolled": true
   },
   "outputs": [],
   "source": [
    "df1"
   ]
  },
  {
   "cell_type": "code",
   "execution_count": null,
   "id": "a9b8f94e",
   "metadata": {},
   "outputs": [],
   "source": [
    "df2=df.drop(labels = Unnamed 0 , axis = 1)"
   ]
  },
  {
   "cell_type": "code",
   "execution_count": null,
   "id": "f63e771d",
   "metadata": {},
   "outputs": [],
   "source": [
    "pd.to_numeric(df)"
   ]
  },
  {
   "cell_type": "code",
   "execution_count": null,
   "id": "f137d358",
   "metadata": {},
   "outputs": [],
   "source": []
  },
  {
   "cell_type": "code",
   "execution_count": null,
   "id": "c9703909",
   "metadata": {},
   "outputs": [],
   "source": [
    "\n",
    "# extracting features from this bearing data\n",
    "\n",
    "feature_matrix=np.zeros((1,10))\n",
    "feature_matrix\n",
    "\n",
    "def compute_skewness(x):\n",
    "    \n",
    "    n = len(x)\n",
    "    third_moment = np.sum((x - np.mean(x))**3) / n\n",
    "    s_3 = np.std(x, ddof = 1) ** 3\n",
    "    return third_moment/s_3\n",
    "\n",
    "def compute_kurtosis(x):\n",
    "    \n",
    "    n = len(x)\n",
    "    fourth_moment = np.sum((x - np.mean(x))**4) / n\n",
    "    s_4 = np.std(x, ddof = 1) ** 4\n",
    "    return fourth_moment / s_4 - 3"
   ]
  },
  {
   "cell_type": "code",
   "execution_count": null,
   "id": "5de0a74a",
   "metadata": {},
   "outputs": [],
   "source": [
    "Time_feature_matrix_2=pd.DataFrame()\n",
    "\n",
    "test_set=3\n",
    "\n",
    "bearing_no=1 # Provide the Bearing number [1,2,3,4] of the Test set\n",
    "\n",
    "path=r'C:\\Users\\User\\Desktop\\outerh/'\n",
    "for filename in os.listdir(path):\n",
    "    \n",
    "    dataset=pd.read_csv(os.path.join(path, filename),header=None)\n",
    "    df=dataset.drop(labels= None, axis=0, index= 0)\n",
    "    df2=df.drop(labels = 0 , axis = 1)\n",
    "\n",
    "    bearing_data = np.array(df2[1])"
   ]
  },
  {
   "cell_type": "code",
   "execution_count": null,
   "id": "4f98e4f6",
   "metadata": {},
   "outputs": [],
   "source": [
    "df2"
   ]
  },
  {
   "cell_type": "code",
   "execution_count": null,
   "id": "81875aa7",
   "metadata": {},
   "outputs": [],
   "source": [
    "pd.to_numeric(df2)"
   ]
  },
  {
   "cell_type": "code",
   "execution_count": null,
   "id": "4fb35ee6",
   "metadata": {},
   "outputs": [],
   "source": [
    "result"
   ]
  },
  {
   "cell_type": "code",
   "execution_count": null,
   "id": "db87ffcc",
   "metadata": {},
   "outputs": [],
   "source": [
    "\n",
    "    feature_matrix=np.zeros((1,10))\n",
    "    temp = bearing_data\n",
    "    feature_matrix[0,0] = np.max(temp)\n",
    "    feature_matrix[0,1] = np.min(temp)\n",
    "    feature_matrix[0,2] = np.mean(temp)\n",
    "    feature_matrix[0,3] = np.std(temp, ddof = 1)\n",
    "    feature_matrix[0,4] = np.sqrt(np.mean(temp ** 2))\n",
    "    feature_matrix[0,5] = compute_skewness(temp)\n",
    "    feature_matrix[0,6] = compute_kurtosis(temp)\n",
    "    feature_matrix[0,7] = feature_matrix[0,0]+feature_matrix [0,1]\n",
    "    feature_matrix[0,8] = feature_matrix[0,0]/feature_matrix[0,4]\n",
    "    feature_matrix[0,9] = feature_matrix[0,3] ** 2\n",
    "    \n",
    "    df3 = pd.DataFrame(feature_matrix)\n",
    "    df3.index=[filename[:-3]]"
   ]
  },
  {
   "cell_type": "code",
   "execution_count": null,
   "id": "dc78aa4b",
   "metadata": {},
   "outputs": [],
   "source": [
    "Time_feature_matrix_2=pd.DataFrame()\n",
    "\n",
    "path=r'C:\\Users\\User\\Desktop\\hhh/'\n",
    "for filename in os.listdir(path):\n",
    "    \n",
    "    data=pd.read_csv(os.path.join(path, filename), sep='\\t',header=None)\n",
    "    data = data.drop(labels=0, axis=0)\n",
    "    #medianFiller = lambda x: x.fillna(x.median)\n",
    "    #df = data.apply(medianFiller, axis=1)\n",
    "    #df = df.astype('float64')"
   ]
  },
  {
   "cell_type": "code",
   "execution_count": null,
   "id": "c41fef99",
   "metadata": {},
   "outputs": [],
   "source": [
    "data"
   ]
  },
  {
   "cell_type": "code",
   "execution_count": null,
   "id": "6cd0f84c",
   "metadata": {},
   "outputs": [],
   "source": [
    "data[data[\"0\"].str.contains(\"0.2\\t1\")==False]"
   ]
  },
  {
   "cell_type": "code",
   "execution_count": null,
   "id": "12af613e",
   "metadata": {},
   "outputs": [],
   "source": [
    "data"
   ]
  },
  {
   "cell_type": "code",
   "execution_count": null,
   "id": "fb3b5494",
   "metadata": {},
   "outputs": [],
   "source": [
    " bearing_data = np.array(data[0])\n",
    "\n",
    "    feature_matrix=np.zeros((1,10))\n",
    "    temp = bearing_data\n",
    "    feature_matrix[0,0] = np.max(temp)\n",
    "    feature_matrix[0,1] = np.min(temp)\n",
    "    feature_matrix[0,2] = np.mean(temp)\n",
    "    feature_matrix[0,3] = np.std(temp, ddof = 1)\n",
    "    feature_matrix[0,4] = np.sqrt(np.mean(temp ** 2))\n",
    "    feature_matrix[0,5] = compute_skewness(temp)\n",
    "    feature_matrix[0,6] = compute_kurtosis(temp)\n",
    "    feature_matrix[0,7] = feature_matrix[0,0]+feature_matrix [0,1]\n",
    "    feature_matrix[0,8] = feature_matrix[0,0]/feature_matrix[0,4]\n",
    "    feature_matrix[0,9] = feature_matrix[0,3] ** 2\n",
    "    \n",
    "    df = pd.DataFrame(feature_matrix)\n",
    "    \n",
    "    \n",
    "    Time_feature_matrix_2 = Time_feature_matrix_2.append(df)"
   ]
  },
  {
   "cell_type": "code",
   "execution_count": null,
   "id": "02681157",
   "metadata": {},
   "outputs": [],
   "source": []
  }
 ],
 "metadata": {
  "kernelspec": {
   "display_name": "Python 3 (ipykernel)",
   "language": "python",
   "name": "python3"
  },
  "language_info": {
   "codemirror_mode": {
    "name": "ipython",
    "version": 3
   },
   "file_extension": ".py",
   "mimetype": "text/x-python",
   "name": "python",
   "nbconvert_exporter": "python",
   "pygments_lexer": "ipython3",
   "version": "3.8.13"
  }
 },
 "nbformat": 4,
 "nbformat_minor": 5
}
